{
 "cells": [
  {
   "cell_type": "markdown",
   "metadata": {},
   "source": [
    "# Some inbuilt function \n"
   ]
  },
  {
   "cell_type": "code",
   "execution_count": 21,
   "metadata": {},
   "outputs": [
    {
     "data": {
      "text/plain": [
       "12"
      ]
     },
     "execution_count": 21,
     "metadata": {},
     "output_type": "execute_result"
    }
   ],
   "source": [
    "len(\"Durgesh Soni\") #len is a inbuilt function which gives the len of the character we have entered, here it has included space also"
   ]
  },
  {
   "cell_type": "code",
   "execution_count": 19,
   "metadata": {},
   "outputs": [
    {
     "data": {
      "text/plain": [
       "str"
      ]
     },
     "execution_count": 19,
     "metadata": {},
     "output_type": "execute_result"
    }
   ],
   "source": [
    "type(\"Durgesh\")  #type is a inbuilt function which will give data type of the value "
   ]
  },
  {
   "cell_type": "code",
   "execution_count": 6,
   "metadata": {},
   "outputs": [
    {
     "name": "stdout",
     "output_type": "stream",
     "text": [
      "My first name is Durgesh and my last name is Soni\n"
     ]
    }
   ],
   "source": [
    "first_name = 'Durgesh'\n",
    "last_name = 'Soni'\n",
    "\n",
    "print(\"My first name is {} and my last name is {}\".format(first_name,last_name)) \n",
    "\n",
    "#Here order of the formatting matters if we change of formatting for firsr_name and last_name then assignment will also change\n"
   ]
  },
  {
   "cell_type": "code",
   "execution_count": 8,
   "metadata": {},
   "outputs": [
    {
     "name": "stdout",
     "output_type": "stream",
     "text": [
      "My first name is Soni and my last name is Durgesh\n"
     ]
    }
   ],
   "source": [
    "#Here we have changed the order of formatting \n",
    "\n",
    "print(\"My first name is {} and my last name is {}\".format(last_name,first_name))\n",
    "\n",
    "#as we see the assignment is also changed.\n"
   ]
  },
  {
   "cell_type": "code",
   "execution_count": 11,
   "metadata": {},
   "outputs": [
    {
     "name": "stdout",
     "output_type": "stream",
     "text": [
      "My first name is Durgesh and my last name is Soni\n"
     ]
    }
   ],
   "source": [
    "#Here we are doing something that we prevent the change of value even if we change the formating \n",
    "\n",
    "print(\"My first name is {first} and my last name is {last}\".format(last=last_name,first=first_name))"
   ]
  },
  {
   "cell_type": "markdown",
   "metadata": {},
   "source": [
    "# Boolean"
   ]
  },
  {
   "cell_type": "markdown",
   "metadata": {},
   "source": [
    "    # Boolean function in pyhton\n",
    "    # Boolean vlaues are the two constant object true and False\n",
    "    # In numerical contect they behave like integer 0 and 1\n",
    "    # The built in function bool() can be used to cast any value to a Boolean."
   ]
  },
  {
   "cell_type": "code",
   "execution_count": 5,
   "metadata": {},
   "outputs": [
    {
     "name": "stdout",
     "output_type": "stream",
     "text": [
      "True False\n"
     ]
    }
   ],
   "source": [
    "print (True, False)"
   ]
  },
  {
   "cell_type": "code",
   "execution_count": 98,
   "metadata": {},
   "outputs": [
    {
     "data": {
      "text/plain": [
       "bool"
      ]
     },
     "execution_count": 98,
     "metadata": {},
     "output_type": "execute_result"
    }
   ],
   "source": [
    "type(True)"
   ]
  },
  {
   "cell_type": "code",
   "execution_count": 99,
   "metadata": {},
   "outputs": [
    {
     "data": {
      "text/plain": [
       "False"
      ]
     },
     "execution_count": 99,
     "metadata": {},
     "output_type": "execute_result"
    }
   ],
   "source": [
    "bool()"
   ]
  },
  {
   "cell_type": "code",
   "execution_count": 100,
   "metadata": {},
   "outputs": [],
   "source": [
    "my_str = 'Durgesh Soni'"
   ]
  },
  {
   "cell_type": "code",
   "execution_count": 101,
   "metadata": {},
   "outputs": [
    {
     "name": "stdout",
     "output_type": "stream",
     "text": [
      "False\n"
     ]
    }
   ],
   "source": [
    "print(my_str.isalpha())"
   ]
  },
  {
   "cell_type": "code",
   "execution_count": 102,
   "metadata": {},
   "outputs": [],
   "source": [
    "#### NOTE: Most of boolean function starts with \"is\", we can get all boolean when we write \"is\" and press"
   ]
  },
  {
   "cell_type": "code",
   "execution_count": 103,
   "metadata": {},
   "outputs": [
    {
     "name": "stdout",
     "output_type": "stream",
     "text": [
      "True\n",
      "False\n"
     ]
    }
   ],
   "source": [
    "# TWO of the most important boolean function which does not start with \"is\" are demonsatred below:\\\n",
    "\n",
    "print(my_str.startswith('D'))\n",
    "\n",
    "# Remember here \"D\" which we have given is case sensitive\n",
    "\n",
    "print(my_str.endswith(\"D\"))"
   ]
  },
  {
   "cell_type": "code",
   "execution_count": 104,
   "metadata": {},
   "outputs": [
    {
     "data": {
      "text/plain": [
       "False"
      ]
     },
     "execution_count": 104,
     "metadata": {},
     "output_type": "execute_result"
    }
   ],
   "source": [
    "my_str.isalpha()"
   ]
  },
  {
   "cell_type": "markdown",
   "metadata": {},
   "source": [
    "#  Lists"
   ]
  },
  {
   "cell_type": "markdown",
   "metadata": {},
   "source": [
    "    #List is the data structure in python which are mutable, changeable, ordered sequence of element \n",
    "    #Each value or element in the list are called item.\n",
    "    #It can contain any element in side it, i.e alphabetic, alnumeric, strings, i.e elements can be of different data type\n",
    "    #List are defined by having values in squre bracket []\n"
   ]
  },
  {
   "cell_type": "code",
   "execution_count": 105,
   "metadata": {},
   "outputs": [
    {
     "data": {
      "text/plain": [
       "list"
      ]
     },
     "execution_count": 105,
     "metadata": {},
     "output_type": "execute_result"
    }
   ],
   "source": [
    "type([]) # used to get the type of square braket[]"
   ]
  },
  {
   "cell_type": "code",
   "execution_count": 106,
   "metadata": {},
   "outputs": [],
   "source": [
    "lst_eg = list() # list( is the function used to create empty list)"
   ]
  },
  {
   "cell_type": "code",
   "execution_count": 14,
   "metadata": {},
   "outputs": [
    {
     "name": "stdout",
     "output_type": "stream",
     "text": [
      "['IBM', 'Syntel', 'Atos', 'TCS', 'Capita', 230, 666, 987, 210]\n"
     ]
    }
   ],
   "source": [
    "lst_eg = [\"IBM\", \"Syntel\", \"Atos\", \"TCS\", \"Capita\", 230, 666, 987, 210] \n",
    "#srings which we have given in list should be in quotes single or double.\n",
    "\n",
    "\n",
    "print(lst_eg)\n"
   ]
  },
  {
   "cell_type": "code",
   "execution_count": 108,
   "metadata": {},
   "outputs": [
    {
     "data": {
      "text/plain": [
       "9"
      ]
     },
     "execution_count": 108,
     "metadata": {},
     "output_type": "execute_result"
    }
   ],
   "source": [
    "#there are different function that we can apply on string\"\n",
    "\n",
    "len(lst_eg)  # len function will give number of element in a list\n",
    "\n"
   ]
  },
  {
   "cell_type": "markdown",
   "metadata": {},
   "source": [
    "# There are some inbuilt function in list which are demonstrated below\n",
    "# 1.  Append "
   ]
  },
  {
   "cell_type": "code",
   "execution_count": 3,
   "metadata": {},
   "outputs": [
    {
     "data": {
      "text/plain": [
       "['durgesh', 'Sumeet', 'Tanuj', 'Akash', 'Pankaj']"
      ]
     },
     "execution_count": 3,
     "metadata": {},
     "output_type": "execute_result"
    }
   ],
   "source": [
    "# append is used to insert a element to a list at the end \n",
    "lst_name = ['durgesh','Sumeet','Tanuj','Akash']\n",
    "lst_name.append('Pankaj')\n",
    "lst_name"
   ]
  },
  {
   "cell_type": "code",
   "execution_count": 16,
   "metadata": {},
   "outputs": [
    {
     "data": {
      "text/plain": [
       "['durgesh',\n",
       " 'Sumeet',\n",
       " 'Infosys',\n",
       " 'Infosys',\n",
       " 'Tanuj',\n",
       " 'Akash',\n",
       " 'Pankaj',\n",
       " ['Wipro', 'L&T'],\n",
       " ['Wipro', 'L&T'],\n",
       " ['Wipro', 'L&T'],\n",
       " ['Wipro', 'L&T']]"
      ]
     },
     "execution_count": 16,
     "metadata": {},
     "output_type": "execute_result"
    }
   ],
   "source": [
    "lst_name.append(['Wipro','L&T']) \n",
    "lst_name\n",
    "\n",
    "# this kind of append will add a new list inside your existing list and your list will become nested list\n",
    "\n",
    "#we will see this kind of extend but it will give different result i.e iit will not be a nested list"
   ]
  },
  {
   "cell_type": "markdown",
   "metadata": {},
   "source": [
    "#  2. Insert "
   ]
  },
  {
   "cell_type": "code",
   "execution_count": 10,
   "metadata": {},
   "outputs": [
    {
     "data": {
      "text/plain": [
       "['durgesh',\n",
       " 'Sumeet',\n",
       " 'Infosys',\n",
       " 'Infosys',\n",
       " 'Tanuj',\n",
       " 'Akash',\n",
       " 'Pankaj',\n",
       " ['Wipro', 'L&T'],\n",
       " ['Wipro', 'L&T'],\n",
       " ['Wipro', 'L&T']]"
      ]
     },
     "execution_count": 10,
     "metadata": {},
     "output_type": "execute_result"
    }
   ],
   "source": [
    "# insert is used to insert a element to a list in a specific oreder/sequence\n",
    "\n",
    "lst_name.insert(2,'Infosys')\n",
    "lst_name\n",
    "\n"
   ]
  },
  {
   "cell_type": "code",
   "execution_count": 15,
   "metadata": {},
   "outputs": [
    {
     "name": "stdout",
     "output_type": "stream",
     "text": [
      "['IBM', 'Syntel', 'Atos', 'TCS', 'Capita', 230, 666, 987, 210]\n"
     ]
    }
   ],
   "source": [
    "print(lst_eg)"
   ]
  },
  {
   "cell_type": "markdown",
   "metadata": {},
   "source": [
    "#  3. Extend"
   ]
  },
  {
   "cell_type": "code",
   "execution_count": 118,
   "metadata": {},
   "outputs": [
    {
     "data": {
      "text/plain": [
       "[1, 2, 3, 4, 5, 6, 7]"
      ]
     },
     "execution_count": 118,
     "metadata": {},
     "output_type": "execute_result"
    }
   ],
   "source": [
    "# In extend if we treid to add element to a list it not be added as nested list, what  we saw in case of append\n",
    "# Will create a new list and try to exceute it by execute function\n",
    "\n",
    "list1 = [1,2,3,4,5,6,7]\n",
    "\n",
    "list1"
   ]
  },
  {
   "cell_type": "code",
   "execution_count": 119,
   "metadata": {},
   "outputs": [
    {
     "data": {
      "text/plain": [
       "[1, 2, 3, 4, 5, 6, 7, 0, 9]"
      ]
     },
     "execution_count": 119,
     "metadata": {},
     "output_type": "execute_result"
    }
   ],
   "source": [
    "list1.extend([0,9])\n",
    "list1\n"
   ]
  },
  {
   "cell_type": "markdown",
   "metadata": {},
   "source": [
    "# Various operation that are performed on list\n",
    "### 1. sum() -- This will sum all the numeric \n",
    "### 2. pop() --  This will remove the values from the list which is indicated by pointer\n",
    "### 3. count() -- this will give the count of total occurnace of a desired element from the list\n",
    "### 4. len() -- Calculates total length  of list\n",
    "### 5. index() -- return the index of first occurance, start and end inndex are not necessary parameter\n",
    "### 6. min() -- it gives the minimum value within the list\n",
    "### 7. max() - it gives the maximum value within the list\n",
    "\n",
    "\n"
   ]
  },
  {
   "cell_type": "code",
   "execution_count": 1,
   "metadata": {},
   "outputs": [
    {
     "data": {
      "text/plain": [
       "316"
      ]
     },
     "execution_count": 1,
     "metadata": {},
     "output_type": "execute_result"
    }
   ],
   "source": [
    "lst =[27,23,89,87,90]\n",
    "sum(lst)\n",
    "\n",
    "#SUM is inbuilt funtion which will give you the ssum of values inside the list"
   ]
  },
  {
   "cell_type": "code",
   "execution_count": 22,
   "metadata": {},
   "outputs": [
    {
     "data": {
      "text/plain": [
       "11"
      ]
     },
     "execution_count": 22,
     "metadata": {},
     "output_type": "execute_result"
    }
   ],
   "source": [
    "durgesh=7\n",
    "soni=4\n",
    "\n",
    "lst_name=[durgesh,soni]\n",
    "sum(lst_name)\n",
    "\n",
    "#Inbilt function Sum will work on list which contain strings"
   ]
  },
  {
   "cell_type": "code",
   "execution_count": 30,
   "metadata": {},
   "outputs": [
    {
     "data": {
      "text/plain": [
       "[27, 23, 89, 87]"
      ]
     },
     "execution_count": 30,
     "metadata": {},
     "output_type": "execute_result"
    }
   ],
   "source": [
    "lst_2 =[27,23,89,87,90]\n",
    "lst_2.pop()\n",
    "lst_2\n",
    "#when we dont indicate anything in pop( then it will by default remove the last element from the list)\n",
    "\n"
   ]
  },
  {
   "cell_type": "code",
   "execution_count": 31,
   "metadata": {},
   "outputs": [
    {
     "data": {
      "text/plain": [
       "[11, 22, 44, 55, 66, 77]"
      ]
     },
     "execution_count": 31,
     "metadata": {},
     "output_type": "execute_result"
    }
   ],
   "source": [
    "lst_3 =[11,22,33,44,55,66,77]\n",
    "lst_3.pop(2)\n",
    "lst_3\n",
    "#here it will remove the element wwhich is at the 2 position, we can see the output below\n"
   ]
  },
  {
   "cell_type": "code",
   "execution_count": 9,
   "metadata": {},
   "outputs": [
    {
     "data": {
      "text/plain": [
       "2"
      ]
     },
     "execution_count": 9,
     "metadata": {},
     "output_type": "execute_result"
    }
   ],
   "source": [
    "lst_4=[1,1,2,2,3,3,4,5,6,7]\n",
    "lst_4.count(1)\n",
    "\n",
    "#Here we will  get the count of occurance of element which we have indicated\n"
   ]
  },
  {
   "cell_type": "code",
   "execution_count": 10,
   "metadata": {},
   "outputs": [
    {
     "data": {
      "text/plain": [
       "10"
      ]
     },
     "execution_count": 10,
     "metadata": {},
     "output_type": "execute_result"
    }
   ],
   "source": [
    "len(lst_4)\n",
    "\n",
    "# Like the len function we have seen for string we can also get the total length of list i.e. the number element present in list"
   ]
  },
  {
   "cell_type": "code",
   "execution_count": 20,
   "metadata": {},
   "outputs": [
    {
     "data": {
      "text/plain": [
       "3"
      ]
     },
     "execution_count": 20,
     "metadata": {},
     "output_type": "execute_result"
    }
   ],
   "source": [
    "lst_5=[1,0,2,1,2,3,3,4,5,6,7]\n",
    "\n",
    "lst_5.index(1,1,5)\n",
    "\n",
    "\n",
    "# It will give the index of first occurance of  (value 1) starting from index 1 to 5\n"
   ]
  },
  {
   "cell_type": "code",
   "execution_count": 22,
   "metadata": {},
   "outputs": [
    {
     "data": {
      "text/plain": [
       "0"
      ]
     },
     "execution_count": 22,
     "metadata": {},
     "output_type": "execute_result"
    }
   ],
   "source": [
    "min(lst_5)\n",
    "\n",
    "# this will give the minimum value present in lst_5"
   ]
  },
  {
   "cell_type": "code",
   "execution_count": 23,
   "metadata": {},
   "outputs": [
    {
     "data": {
      "text/plain": [
       "7"
      ]
     },
     "execution_count": 23,
     "metadata": {},
     "output_type": "execute_result"
    }
   ],
   "source": [
    "max(lst_5)\n",
    "\n",
    "#this will give maximum value present in lst_5"
   ]
  },
  {
   "cell_type": "code",
   "execution_count": null,
   "metadata": {},
   "outputs": [],
   "source": []
  }
 ],
 "metadata": {
  "kernelspec": {
   "display_name": "Python 3",
   "language": "python",
   "name": "python3"
  },
  "language_info": {
   "codemirror_mode": {
    "name": "ipython",
    "version": 3
   },
   "file_extension": ".py",
   "mimetype": "text/x-python",
   "name": "python",
   "nbconvert_exporter": "python",
   "pygments_lexer": "ipython3",
   "version": "3.6.5"
  }
 },
 "nbformat": 4,
 "nbformat_minor": 2
}
