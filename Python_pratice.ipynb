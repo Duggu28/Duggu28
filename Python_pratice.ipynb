{
 "cells": [
  {
   "cell_type": "markdown",
   "metadata": {},
   "source": [
    "# Some inbuilt function \n"
   ]
  },
  {
   "cell_type": "code",
   "execution_count": 21,
   "metadata": {},
   "outputs": [
    {
     "data": {
      "text/plain": [
       "12"
      ]
     },
     "execution_count": 21,
     "metadata": {},
     "output_type": "execute_result"
    }
   ],
   "source": [
    "len(\"Durgesh Soni\") #len is a inbuilt function which gives the len of the character we have entered, here it has included space also"
   ]
  },
  {
   "cell_type": "code",
   "execution_count": 19,
   "metadata": {},
   "outputs": [
    {
     "data": {
      "text/plain": [
       "str"
      ]
     },
     "execution_count": 19,
     "metadata": {},
     "output_type": "execute_result"
    }
   ],
   "source": [
    "type(\"Durgesh\")  #type is a inbuilt function which will give data type of the value "
   ]
  },
  {
   "cell_type": "code",
   "execution_count": 6,
   "metadata": {},
   "outputs": [
    {
     "name": "stdout",
     "output_type": "stream",
     "text": [
      "My first name is Durgesh and my last name is Soni\n"
     ]
    }
   ],
   "source": [
    "first_name = 'Durgesh'\n",
    "last_name = 'Soni'\n",
    "\n",
    "print(\"My first name is {} and my last name is {}\".format(first_name,last_name)) \n",
    "\n",
    "#Here order of the formatting matters if we change of formatting for firsr_name and last_name then assignment will also change\n"
   ]
  },
  {
   "cell_type": "code",
   "execution_count": 8,
   "metadata": {},
   "outputs": [
    {
     "name": "stdout",
     "output_type": "stream",
     "text": [
      "My first name is Soni and my last name is Durgesh\n"
     ]
    }
   ],
   "source": [
    "#Here we have changed the order of formatting \n",
    "\n",
    "print(\"My first name is {} and my last name is {}\".format(last_name,first_name))\n",
    "\n",
    "#as we see the assignment is also changed.\n"
   ]
  },
  {
   "cell_type": "code",
   "execution_count": 11,
   "metadata": {},
   "outputs": [
    {
     "name": "stdout",
     "output_type": "stream",
     "text": [
      "My first name is Durgesh and my last name is Soni\n"
     ]
    }
   ],
   "source": [
    "#Here we are doing something that we prevent the change of value even if we change the formating \n",
    "\n",
    "print(\"My first name is {first} and my last name is {last}\".format(last=last_name,first=first_name))"
   ]
  },
  {
   "cell_type": "markdown",
   "metadata": {},
   "source": [
    "# Boolean"
   ]
  },
  {
   "cell_type": "markdown",
   "metadata": {},
   "source": [
    "    # Boolean function in pyhton\n",
    "    # Boolean vlaues are the two constant object true and False\n",
    "    # In numerical contect they behave like integer 0 and 1\n",
    "    # The built in function bool() can be used to cast any value to a Boolean."
   ]
  },
  {
   "cell_type": "code",
   "execution_count": 5,
   "metadata": {},
   "outputs": [
    {
     "name": "stdout",
     "output_type": "stream",
     "text": [
      "True False\n"
     ]
    }
   ],
   "source": [
    "print (True, False)"
   ]
  },
  {
   "cell_type": "code",
   "execution_count": 98,
   "metadata": {},
   "outputs": [
    {
     "data": {
      "text/plain": [
       "bool"
      ]
     },
     "execution_count": 98,
     "metadata": {},
     "output_type": "execute_result"
    }
   ],
   "source": [
    "type(True)"
   ]
  },
  {
   "cell_type": "code",
   "execution_count": 99,
   "metadata": {},
   "outputs": [
    {
     "data": {
      "text/plain": [
       "False"
      ]
     },
     "execution_count": 99,
     "metadata": {},
     "output_type": "execute_result"
    }
   ],
   "source": [
    "bool()"
   ]
  },
  {
   "cell_type": "code",
   "execution_count": 100,
   "metadata": {},
   "outputs": [],
   "source": [
    "my_str = 'Durgesh Soni'"
   ]
  },
  {
   "cell_type": "code",
   "execution_count": 101,
   "metadata": {},
   "outputs": [
    {
     "name": "stdout",
     "output_type": "stream",
     "text": [
      "False\n"
     ]
    }
   ],
   "source": [
    "print(my_str.isalpha())"
   ]
  },
  {
   "cell_type": "code",
   "execution_count": 102,
   "metadata": {},
   "outputs": [],
   "source": [
    "#### NOTE: Most of boolean function starts with \"is\", we can get all boolean when we write \"is\" and press"
   ]
  },
  {
   "cell_type": "code",
   "execution_count": 103,
   "metadata": {},
   "outputs": [
    {
     "name": "stdout",
     "output_type": "stream",
     "text": [
      "True\n",
      "False\n"
     ]
    }
   ],
   "source": [
    "# TWO of the most important boolean function which does not start with \"is\" are demonsatred below:\\\n",
    "\n",
    "print(my_str.startswith('D'))\n",
    "\n",
    "# Remember here \"D\" which we have given is case sensitive\n",
    "\n",
    "print(my_str.endswith(\"D\"))"
   ]
  },
  {
   "cell_type": "code",
   "execution_count": 104,
   "metadata": {},
   "outputs": [
    {
     "data": {
      "text/plain": [
       "False"
      ]
     },
     "execution_count": 104,
     "metadata": {},
     "output_type": "execute_result"
    }
   ],
   "source": [
    "my_str.isalpha()"
   ]
  },
  {
   "cell_type": "markdown",
   "metadata": {},
   "source": [
    "#  Lists"
   ]
  },
  {
   "cell_type": "markdown",
   "metadata": {},
   "source": [
    "    #List is the data structure in python which are mutable, changeable, ordered sequence of element \n",
    "    #Each value or element in the list are called item.\n",
    "    #It can contain any element in side it, i.e alphabetic, alnumeric, strings, i.e elements can be of different data type\n",
    "    #List are defined by having values in squre bracket []\n"
   ]
  },
  {
   "cell_type": "code",
   "execution_count": 105,
   "metadata": {},
   "outputs": [
    {
     "data": {
      "text/plain": [
       "list"
      ]
     },
     "execution_count": 105,
     "metadata": {},
     "output_type": "execute_result"
    }
   ],
   "source": [
    "type([]) # used to get the type of square braket[]"
   ]
  },
  {
   "cell_type": "code",
   "execution_count": 106,
   "metadata": {},
   "outputs": [],
   "source": [
    "lst_eg = list() # list( is the function used to create empty list)"
   ]
  },
  {
   "cell_type": "code",
   "execution_count": 107,
   "metadata": {},
   "outputs": [
    {
     "name": "stdout",
     "output_type": "stream",
     "text": [
      "['IBM', 'Syntel', 'Atos', 'TCS', 'Capita', 230, 666, 987, 210]\n"
     ]
    }
   ],
   "source": [
    "lst_eg = [\"IBM\", \"Syntel\", \"Atos\", \"TCS\", \"Capita\", 230, 666, 987, 210] \n",
    "#srings which we have given in list should be in quotes single or double.\n",
    "\n",
    "\n",
    "print(lst_eg)\n"
   ]
  },
  {
   "cell_type": "code",
   "execution_count": 108,
   "metadata": {},
   "outputs": [
    {
     "data": {
      "text/plain": [
       "9"
      ]
     },
     "execution_count": 108,
     "metadata": {},
     "output_type": "execute_result"
    }
   ],
   "source": [
    "#there are different function that we can apply on string\"\n",
    "\n",
    "len(lst_eg)  # len function will give number of element in a list\n",
    "\n"
   ]
  },
  {
   "cell_type": "markdown",
   "metadata": {},
   "source": [
    "# There are some inbuilt function in list which are demonstrated below\n",
    "# 1.  Append "
   ]
  },
  {
   "cell_type": "code",
   "execution_count": 109,
   "metadata": {},
   "outputs": [
    {
     "data": {
      "text/plain": [
       "['IBM', 'Syntel', 'Atos', 'TCS', 'Capita', 230, 666, 987, 210, 'Amdocs']"
      ]
     },
     "execution_count": 109,
     "metadata": {},
     "output_type": "execute_result"
    }
   ],
   "source": [
    "# append is used to insert a element to a list at the end \n",
    "\n",
    "lst_eg.append('Amdocs')\n",
    "lst_eg"
   ]
  },
  {
   "cell_type": "markdown",
   "metadata": {},
   "source": [
    "#  2. Insert "
   ]
  },
  {
   "cell_type": "code",
   "execution_count": 110,
   "metadata": {},
   "outputs": [
    {
     "data": {
      "text/plain": [
       "['IBM',\n",
       " 'Syntel',\n",
       " 'Infosys',\n",
       " 'Atos',\n",
       " 'TCS',\n",
       " 'Capita',\n",
       " 230,\n",
       " 666,\n",
       " 987,\n",
       " 210,\n",
       " 'Amdocs']"
      ]
     },
     "execution_count": 110,
     "metadata": {},
     "output_type": "execute_result"
    }
   ],
   "source": [
    "# insert is used to insert a element to a list in a specific oreder/sequence\n",
    "\n",
    "lst_eg.insert(2,'Infosys')\n",
    "lst_eg"
   ]
  },
  {
   "cell_type": "code",
   "execution_count": 111,
   "metadata": {},
   "outputs": [],
   "source": [
    "lst_eg.append(['Wipro','L&T']) \n",
    "# this kind of append will add a new list inside your existing list and your list will become nested list"
   ]
  },
  {
   "cell_type": "code",
   "execution_count": 112,
   "metadata": {},
   "outputs": [
    {
     "data": {
      "text/plain": [
       "['IBM',\n",
       " 'Syntel',\n",
       " 'Infosys',\n",
       " 'Atos',\n",
       " 'TCS',\n",
       " 'Capita',\n",
       " 230,\n",
       " 666,\n",
       " 987,\n",
       " 210,\n",
       " 'Amdocs',\n",
       " ['Wipro', 'L&T']]"
      ]
     },
     "execution_count": 112,
     "metadata": {},
     "output_type": "execute_result"
    }
   ],
   "source": [
    "lst_eg"
   ]
  },
  {
   "cell_type": "markdown",
   "metadata": {},
   "source": [
    "#  3. Extend"
   ]
  },
  {
   "cell_type": "code",
   "execution_count": 118,
   "metadata": {},
   "outputs": [
    {
     "data": {
      "text/plain": [
       "[1, 2, 3, 4, 5, 6, 7]"
      ]
     },
     "execution_count": 118,
     "metadata": {},
     "output_type": "execute_result"
    }
   ],
   "source": [
    "# In extend if we treid to add element to a list it not be added as nested list, what  we saw in case of append\n",
    "# Will create a new list and try to exceute it by execute function\n",
    "\n",
    "list1 = [1,2,3,4,5,6,7]\n",
    "\n",
    "list1"
   ]
  },
  {
   "cell_type": "code",
   "execution_count": 119,
   "metadata": {},
   "outputs": [
    {
     "data": {
      "text/plain": [
       "[1, 2, 3, 4, 5, 6, 7, 0, 9]"
      ]
     },
     "execution_count": 119,
     "metadata": {},
     "output_type": "execute_result"
    }
   ],
   "source": [
    "list1.extend([0,9])\n",
    "list1\n"
   ]
  },
  {
   "cell_type": "code",
   "execution_count": null,
   "metadata": {},
   "outputs": [],
   "source": []
  }
 ],
 "metadata": {
  "kernelspec": {
   "display_name": "Python 3",
   "language": "python",
   "name": "python3"
  },
  "language_info": {
   "codemirror_mode": {
    "name": "ipython",
    "version": 3
   },
   "file_extension": ".py",
   "mimetype": "text/x-python",
   "name": "python",
   "nbconvert_exporter": "python",
   "pygments_lexer": "ipython3",
   "version": "3.6.5"
  }
 },
 "nbformat": 4,
 "nbformat_minor": 2
}
